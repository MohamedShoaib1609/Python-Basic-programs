{
 "cells": [
  {
   "cell_type": "markdown",
   "id": "ba69f5e6-0127-4f76-b06b-b34ac6cb454e",
   "metadata": {},
   "source": [
    "# Python Basics\n"
   ]
  },
  {
   "cell_type": "raw",
   "id": "1283b5d9-013b-47de-973a-6f68fcca0f27",
   "metadata": {},
   "source": [
    "1. Data type\n",
    "   *Integer\n",
    "   *Float\n",
    "   *String\n",
    "   *Complex\n",
    "   *Booleans "
   ]
  },
  {
   "cell_type": "raw",
   "id": "57f28834-0c62-4828-a632-9b109bac3148",
   "metadata": {},
   "source": [
    "2. Data Types Conversion// Type casting\n",
    "         "
   ]
  },
  {
   "cell_type": "markdown",
   "id": "2a5c6880-8536-4668-96bc-9b6f8b413dc4",
   "metadata": {},
   "source": [
    "# integer conversion"
   ]
  },
  {
   "cell_type": "raw",
   "id": "707e99cb-a03e-429b-be72-ddab2b99f00c",
   "metadata": {},
   "source": [
    "  float to int\n",
    "       string to int\n",
    "   Note:'ten'cant be converted because it is in word format \n",
    "       complex to int\n",
    "   Note: int() argument must be a string, a bytes-like object or a real number, not 'complex'\n",
    "       "
   ]
  },
  {
   "cell_type": "code",
   "execution_count": 23,
   "id": "26b42bc1-a3d6-44c3-8914-360158d91bb1",
   "metadata": {},
   "outputs": [
    {
     "data": {
      "text/plain": [
       "10"
      ]
     },
     "execution_count": 23,
     "metadata": {},
     "output_type": "execute_result"
    }
   ],
   "source": [
    "int(10.5)"
   ]
  },
  {
   "cell_type": "code",
   "execution_count": 24,
   "id": "8bace3cb-4bd3-498d-94fb-6e44d960dc8b",
   "metadata": {},
   "outputs": [
    {
     "data": {
      "text/plain": [
       "10"
      ]
     },
     "execution_count": 24,
     "metadata": {},
     "output_type": "execute_result"
    }
   ],
   "source": [
    "int('10')"
   ]
  },
  {
   "cell_type": "code",
   "execution_count": 25,
   "id": "bab36328-9b5e-4e99-8b8f-65b3589cd010",
   "metadata": {},
   "outputs": [
    {
     "ename": "TypeError",
     "evalue": "int() argument must be a string, a bytes-like object or a real number, not 'complex'",
     "output_type": "error",
     "traceback": [
      "\u001b[1;31m---------------------------------------------------------------------------\u001b[0m",
      "\u001b[1;31mTypeError\u001b[0m                                 Traceback (most recent call last)",
      "Cell \u001b[1;32mIn[25], line 1\u001b[0m\n\u001b[1;32m----> 1\u001b[0m \u001b[38;5;28mint\u001b[39m(\u001b[38;5;241m2\u001b[39m\u001b[38;5;241m+\u001b[39m\u001b[38;5;241m5\u001b[39mj)\n",
      "\u001b[1;31mTypeError\u001b[0m: int() argument must be a string, a bytes-like object or a real number, not 'complex'"
     ]
    }
   ],
   "source": [
    "int(2+5j)"
   ]
  },
  {
   "cell_type": "code",
   "execution_count": 1,
   "id": "f35b68cb-9f60-4d5d-aae5-2be63dbd2c0f",
   "metadata": {},
   "outputs": [
    {
     "ename": "ValueError",
     "evalue": "invalid literal for int() with base 10: 'ten'",
     "output_type": "error",
     "traceback": [
      "\u001b[1;31m---------------------------------------------------------------------------\u001b[0m",
      "\u001b[1;31mValueError\u001b[0m                                Traceback (most recent call last)",
      "Cell \u001b[1;32mIn[1], line 1\u001b[0m\n\u001b[1;32m----> 1\u001b[0m \u001b[38;5;28mint\u001b[39m(\u001b[38;5;124m'\u001b[39m\u001b[38;5;124mten\u001b[39m\u001b[38;5;124m'\u001b[39m)\n",
      "\u001b[1;31mValueError\u001b[0m: invalid literal for int() with base 10: 'ten'"
     ]
    }
   ],
   "source": [
    "int('ten')\n"
   ]
  },
  {
   "cell_type": "markdown",
   "id": "6b9986a2-f95c-4991-a8aa-c58663d2c804",
   "metadata": {},
   "source": [
    "# String coversions"
   ]
  },
  {
   "cell_type": "raw",
   "id": "35e6467f-d5b7-4941-9703-d7b082a51c32",
   "metadata": {},
   "source": [
    "integer to string\n",
    "float to string\n",
    "complex to string"
   ]
  },
  {
   "cell_type": "code",
   "execution_count": 5,
   "id": "69a3e2e8-ed25-4a52-9761-62f4b0691e0e",
   "metadata": {},
   "outputs": [
    {
     "data": {
      "text/plain": [
       "'123'"
      ]
     },
     "execution_count": 5,
     "metadata": {},
     "output_type": "execute_result"
    }
   ],
   "source": [
    "str(123)"
   ]
  },
  {
   "cell_type": "code",
   "execution_count": 7,
   "id": "90a2469d-b177-4f5b-a9e6-853178c8d9a2",
   "metadata": {},
   "outputs": [
    {
     "data": {
      "text/plain": [
       "'10.34'"
      ]
     },
     "execution_count": 7,
     "metadata": {},
     "output_type": "execute_result"
    }
   ],
   "source": [
    "str(10.34)"
   ]
  },
  {
   "cell_type": "code",
   "execution_count": 9,
   "id": "5284af62-1955-455f-895a-2354ea25033e",
   "metadata": {},
   "outputs": [
    {
     "data": {
      "text/plain": [
       "'(2+6j)'"
      ]
     },
     "execution_count": 9,
     "metadata": {},
     "output_type": "execute_result"
    }
   ],
   "source": [
    "str(2+6j)"
   ]
  },
  {
   "cell_type": "markdown",
   "id": "3203ab93-2bd4-4073-bc21-de871a4530b7",
   "metadata": {},
   "source": [
    "# float conversion"
   ]
  },
  {
   "cell_type": "raw",
   "id": "e6f178ac-8e0f-4971-9c67-5336a0966d2d",
   "metadata": {},
   "source": [
    "integer to float\n",
    "string to float\n",
    "complex to float\n",
    " Note:float() argument must be a string or a real number, not 'complex'"
   ]
  },
  {
   "cell_type": "code",
   "execution_count": 12,
   "id": "eaeb366c-0750-4310-9ca0-01bbf8cbd5e8",
   "metadata": {},
   "outputs": [
    {
     "data": {
      "text/plain": [
       "10.0"
      ]
     },
     "execution_count": 12,
     "metadata": {},
     "output_type": "execute_result"
    }
   ],
   "source": [
    "float(10)"
   ]
  },
  {
   "cell_type": "code",
   "execution_count": 14,
   "id": "bce294da-9a45-49d6-a479-aa90c743b395",
   "metadata": {},
   "outputs": [
    {
     "data": {
      "text/plain": [
       "1234.0"
      ]
     },
     "execution_count": 14,
     "metadata": {},
     "output_type": "execute_result"
    }
   ],
   "source": [
    "float('1234')"
   ]
  },
  {
   "cell_type": "code",
   "execution_count": 16,
   "id": "b5f5f8bd-358f-4305-8ad9-f307109351a4",
   "metadata": {},
   "outputs": [
    {
     "ename": "TypeError",
     "evalue": "float() argument must be a string or a real number, not 'complex'",
     "output_type": "error",
     "traceback": [
      "\u001b[1;31m---------------------------------------------------------------------------\u001b[0m",
      "\u001b[1;31mTypeError\u001b[0m                                 Traceback (most recent call last)",
      "Cell \u001b[1;32mIn[16], line 1\u001b[0m\n\u001b[1;32m----> 1\u001b[0m \u001b[38;5;28mfloat\u001b[39m(\u001b[38;5;241m2\u001b[39m\u001b[38;5;241m+\u001b[39m\u001b[38;5;241m6\u001b[39mj)\n",
      "\u001b[1;31mTypeError\u001b[0m: float() argument must be a string or a real number, not 'complex'"
     ]
    }
   ],
   "source": [
    "float(2+6j)"
   ]
  },
  {
   "cell_type": "code",
   "execution_count": null,
   "id": "77ec0d74-eb3a-4f6f-bb58-be1ca3fb46c0",
   "metadata": {},
   "outputs": [],
   "source": []
  },
  {
   "cell_type": "code",
   "execution_count": null,
   "id": "8798d1d4-24b3-476d-9554-2f6496806c73",
   "metadata": {},
   "outputs": [],
   "source": []
  },
  {
   "cell_type": "code",
   "execution_count": null,
   "id": "ac804f88-d67d-4607-be24-267d148cdf42",
   "metadata": {},
   "outputs": [],
   "source": []
  },
  {
   "cell_type": "markdown",
   "id": "008aec9e-be7f-493a-be27-84c69cbc639e",
   "metadata": {},
   "source": [
    "# Python Operator's "
   ]
  },
  {
   "cell_type": "markdown",
   "id": "ffdb5956-4fe6-4f04-ac28-44cb505ba57c",
   "metadata": {},
   "source": [
    "# There are operators they are---->"
   ]
  },
  {
   "cell_type": "raw",
   "id": "f1648b7d-ebe9-46a7-a070-7380ab8cc39f",
   "metadata": {},
   "source": [
    "1.Arithmatic Operator\n",
    "   addition [+]\n",
    "   substraction[-]\n",
    "   multiplication[*]\n",
    "   division[/]\n",
    "   floor division[//]\n",
    "   module[%]\n",
    "   exponential [**]\n",
    "2.Logical Operator\n",
    "   AND TABLE\n",
    "   OR TABLE\n",
    "   NOT TABLE\n",
    "3.Relational Operator\n",
    "   [ ==,<=,>=,!=,< ,> ]\n",
    "\n",
    "4. Unary operator\n",
    "    "
   ]
  },
  {
   "cell_type": "code",
   "execution_count": 26,
   "id": "8315c066-1c7d-4d90-9ba1-eba9e8c2fea5",
   "metadata": {},
   "outputs": [
    {
     "data": {
      "text/plain": [
       "12"
      ]
     },
     "execution_count": 26,
     "metadata": {},
     "output_type": "execute_result"
    }
   ],
   "source": [
    "a=10\n",
    "b=2\n",
    "a+b"
   ]
  },
  {
   "cell_type": "code",
   "execution_count": 27,
   "id": "754bc657-08cc-4dab-8540-7d865963a281",
   "metadata": {},
   "outputs": [
    {
     "data": {
      "text/plain": [
       "8"
      ]
     },
     "execution_count": 27,
     "metadata": {},
     "output_type": "execute_result"
    }
   ],
   "source": [
    "a-b"
   ]
  },
  {
   "cell_type": "code",
   "execution_count": 28,
   "id": "dfa2c342-bf5c-48bb-bd78-8ef73980bb61",
   "metadata": {},
   "outputs": [
    {
     "data": {
      "text/plain": [
       "20"
      ]
     },
     "execution_count": 28,
     "metadata": {},
     "output_type": "execute_result"
    }
   ],
   "source": [
    "a*b"
   ]
  },
  {
   "cell_type": "code",
   "execution_count": 29,
   "id": "de74c881-26a9-48b1-b557-3bcdfe6b8a84",
   "metadata": {},
   "outputs": [
    {
     "data": {
      "text/plain": [
       "5.0"
      ]
     },
     "execution_count": 29,
     "metadata": {},
     "output_type": "execute_result"
    }
   ],
   "source": [
    "a/b"
   ]
  },
  {
   "cell_type": "code",
   "execution_count": 30,
   "id": "91ed1283-562e-4af5-b29a-a75d7f5ebc48",
   "metadata": {},
   "outputs": [
    {
     "data": {
      "text/plain": [
       "5"
      ]
     },
     "execution_count": 30,
     "metadata": {},
     "output_type": "execute_result"
    }
   ],
   "source": [
    "a//b"
   ]
  },
  {
   "cell_type": "code",
   "execution_count": 31,
   "id": "49287aee-9ad7-4738-a94a-a4f528b42be5",
   "metadata": {},
   "outputs": [
    {
     "data": {
      "text/plain": [
       "0"
      ]
     },
     "execution_count": 31,
     "metadata": {},
     "output_type": "execute_result"
    }
   ],
   "source": [
    "a%b\n"
   ]
  },
  {
   "cell_type": "code",
   "execution_count": 32,
   "id": "286a2d27-9153-4333-95d7-41c9a1696772",
   "metadata": {},
   "outputs": [
    {
     "data": {
      "text/plain": [
       "100"
      ]
     },
     "execution_count": 32,
     "metadata": {},
     "output_type": "execute_result"
    }
   ],
   "source": [
    "a**b\n"
   ]
  },
  {
   "cell_type": "code",
   "execution_count": 33,
   "id": "afcf251f-2d14-4729-84a2-862fbc6bf591",
   "metadata": {},
   "outputs": [
    {
     "data": {
      "text/plain": [
       "True"
      ]
     },
     "execution_count": 33,
     "metadata": {},
     "output_type": "execute_result"
    }
   ],
   "source": [
    "a>b\n"
   ]
  },
  {
   "cell_type": "code",
   "execution_count": 34,
   "id": "2d4d1810-6b33-4d89-8c79-fd7cc982ce67",
   "metadata": {},
   "outputs": [
    {
     "data": {
      "text/plain": [
       "False"
      ]
     },
     "execution_count": 34,
     "metadata": {},
     "output_type": "execute_result"
    }
   ],
   "source": [
    "a<b"
   ]
  },
  {
   "cell_type": "code",
   "execution_count": 35,
   "id": "609ee135-437d-4433-ada7-9761b3c1f946",
   "metadata": {},
   "outputs": [],
   "source": [
    "a=b"
   ]
  },
  {
   "cell_type": "code",
   "execution_count": 36,
   "id": "cd1bf4af-1036-4ab4-b078-8ca4ae31bfb8",
   "metadata": {},
   "outputs": [
    {
     "data": {
      "text/plain": [
       "True"
      ]
     },
     "execution_count": 36,
     "metadata": {},
     "output_type": "execute_result"
    }
   ],
   "source": [
    "a<=b"
   ]
  },
  {
   "cell_type": "code",
   "execution_count": 37,
   "id": "e71f2b36-93b2-46fd-bbf5-3c1622f6e9d0",
   "metadata": {},
   "outputs": [],
   "source": [
    "b=6\n"
   ]
  },
  {
   "cell_type": "code",
   "execution_count": 39,
   "id": "ac4db49a-9ce5-44db-ad72-f266d1b4bf21",
   "metadata": {},
   "outputs": [
    {
     "data": {
      "text/plain": [
       "False"
      ]
     },
     "execution_count": 39,
     "metadata": {},
     "output_type": "execute_result"
    }
   ],
   "source": [
    "a>b\n"
   ]
  },
  {
   "cell_type": "code",
   "execution_count": 41,
   "id": "33d350b6-18e2-44e8-9772-b1db6aab9d8d",
   "metadata": {},
   "outputs": [
    {
     "name": "stdout",
     "output_type": "stream",
     "text": [
      "2\n"
     ]
    }
   ],
   "source": [
    "print (a)\n"
   ]
  },
  {
   "cell_type": "code",
   "execution_count": 42,
   "id": "aeb6c420-e947-475d-8117-e8e628ba8b05",
   "metadata": {},
   "outputs": [
    {
     "name": "stdout",
     "output_type": "stream",
     "text": [
      "6\n"
     ]
    }
   ],
   "source": [
    "print(b)"
   ]
  },
  {
   "cell_type": "code",
   "execution_count": null,
   "id": "56a947e2-c360-4a69-bfcb-f84f95f3d68a",
   "metadata": {},
   "outputs": [],
   "source": []
  }
 ],
 "metadata": {
  "kernelspec": {
   "display_name": "Python 3 (ipykernel)",
   "language": "python",
   "name": "python3"
  },
  "language_info": {
   "codemirror_mode": {
    "name": "ipython",
    "version": 3
   },
   "file_extension": ".py",
   "mimetype": "text/x-python",
   "name": "python",
   "nbconvert_exporter": "python",
   "pygments_lexer": "ipython3",
   "version": "3.12.7"
  }
 },
 "nbformat": 4,
 "nbformat_minor": 5
}
